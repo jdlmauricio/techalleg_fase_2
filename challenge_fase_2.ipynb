{
 "cells": [
  {
   "cell_type": "code",
   "execution_count": 62,
   "metadata": {},
   "outputs": [
    {
     "name": "stdout",
     "output_type": "stream",
     "text": [
      "Requirement already satisfied: seaborn in c:\\users\\jdlma\\appdata\\local\\packages\\pythonsoftwarefoundation.python.3.11_qbz5n2kfra8p0\\localcache\\local-packages\\python311\\site-packages (0.13.2)\n",
      "Requirement already satisfied: numpy!=1.24.0,>=1.20 in c:\\users\\jdlma\\appdata\\local\\packages\\pythonsoftwarefoundation.python.3.11_qbz5n2kfra8p0\\localcache\\local-packages\\python311\\site-packages (from seaborn) (2.1.3)\n",
      "Requirement already satisfied: pandas>=1.2 in c:\\users\\jdlma\\appdata\\local\\packages\\pythonsoftwarefoundation.python.3.11_qbz5n2kfra8p0\\localcache\\local-packages\\python311\\site-packages (from seaborn) (2.2.3)\n",
      "Requirement already satisfied: matplotlib!=3.6.1,>=3.4 in c:\\users\\jdlma\\appdata\\local\\packages\\pythonsoftwarefoundation.python.3.11_qbz5n2kfra8p0\\localcache\\local-packages\\python311\\site-packages (from seaborn) (3.9.2)\n",
      "Requirement already satisfied: contourpy>=1.0.1 in c:\\users\\jdlma\\appdata\\local\\packages\\pythonsoftwarefoundation.python.3.11_qbz5n2kfra8p0\\localcache\\local-packages\\python311\\site-packages (from matplotlib!=3.6.1,>=3.4->seaborn) (1.3.1)\n",
      "Requirement already satisfied: cycler>=0.10 in c:\\users\\jdlma\\appdata\\local\\packages\\pythonsoftwarefoundation.python.3.11_qbz5n2kfra8p0\\localcache\\local-packages\\python311\\site-packages (from matplotlib!=3.6.1,>=3.4->seaborn) (0.12.1)\n",
      "Requirement already satisfied: fonttools>=4.22.0 in c:\\users\\jdlma\\appdata\\local\\packages\\pythonsoftwarefoundation.python.3.11_qbz5n2kfra8p0\\localcache\\local-packages\\python311\\site-packages (from matplotlib!=3.6.1,>=3.4->seaborn) (4.55.0)\n",
      "Requirement already satisfied: kiwisolver>=1.3.1 in c:\\users\\jdlma\\appdata\\local\\packages\\pythonsoftwarefoundation.python.3.11_qbz5n2kfra8p0\\localcache\\local-packages\\python311\\site-packages (from matplotlib!=3.6.1,>=3.4->seaborn) (1.4.7)\n",
      "Requirement already satisfied: packaging>=20.0 in c:\\users\\jdlma\\appdata\\local\\packages\\pythonsoftwarefoundation.python.3.11_qbz5n2kfra8p0\\localcache\\local-packages\\python311\\site-packages (from matplotlib!=3.6.1,>=3.4->seaborn) (24.2)\n",
      "Requirement already satisfied: pillow>=8 in c:\\users\\jdlma\\appdata\\local\\packages\\pythonsoftwarefoundation.python.3.11_qbz5n2kfra8p0\\localcache\\local-packages\\python311\\site-packages (from matplotlib!=3.6.1,>=3.4->seaborn) (11.0.0)\n",
      "Requirement already satisfied: pyparsing>=2.3.1 in c:\\users\\jdlma\\appdata\\local\\packages\\pythonsoftwarefoundation.python.3.11_qbz5n2kfra8p0\\localcache\\local-packages\\python311\\site-packages (from matplotlib!=3.6.1,>=3.4->seaborn) (3.2.0)\n",
      "Requirement already satisfied: python-dateutil>=2.7 in c:\\users\\jdlma\\appdata\\local\\packages\\pythonsoftwarefoundation.python.3.11_qbz5n2kfra8p0\\localcache\\local-packages\\python311\\site-packages (from matplotlib!=3.6.1,>=3.4->seaborn) (2.9.0.post0)\n",
      "Requirement already satisfied: pytz>=2020.1 in c:\\users\\jdlma\\appdata\\local\\packages\\pythonsoftwarefoundation.python.3.11_qbz5n2kfra8p0\\localcache\\local-packages\\python311\\site-packages (from pandas>=1.2->seaborn) (2024.2)\n",
      "Requirement already satisfied: tzdata>=2022.7 in c:\\users\\jdlma\\appdata\\local\\packages\\pythonsoftwarefoundation.python.3.11_qbz5n2kfra8p0\\localcache\\local-packages\\python311\\site-packages (from pandas>=1.2->seaborn) (2024.2)\n",
      "Requirement already satisfied: six>=1.5 in c:\\users\\jdlma\\appdata\\local\\packages\\pythonsoftwarefoundation.python.3.11_qbz5n2kfra8p0\\localcache\\local-packages\\python311\\site-packages (from python-dateutil>=2.7->matplotlib!=3.6.1,>=3.4->seaborn) (1.16.0)\n",
      "Note: you may need to restart the kernel to use updated packages.\n"
     ]
    },
    {
     "name": "stderr",
     "output_type": "stream",
     "text": [
      "\n",
      "[notice] A new release of pip is available: 24.0 -> 24.3.1\n",
      "[notice] To update, run: C:\\Users\\jdlma\\AppData\\Local\\Microsoft\\WindowsApps\\PythonSoftwareFoundation.Python.3.11_qbz5n2kfra8p0\\python.exe -m pip install --upgrade pip\n"
     ]
    }
   ],
   "source": [
    "pip install seaborn"
   ]
  },
  {
   "cell_type": "code",
   "execution_count": 63,
   "metadata": {},
   "outputs": [],
   "source": [
    "import pandas as pd\n",
    "import seaborn as sns\n",
    "import matplotlib.pyplot as plt"
   ]
  },
  {
   "cell_type": "code",
   "execution_count": 64,
   "metadata": {},
   "outputs": [
    {
     "data": {
      "text/html": [
       "<div>\n",
       "<style scoped>\n",
       "    .dataframe tbody tr th:only-of-type {\n",
       "        vertical-align: middle;\n",
       "    }\n",
       "\n",
       "    .dataframe tbody tr th {\n",
       "        vertical-align: top;\n",
       "    }\n",
       "\n",
       "    .dataframe thead th {\n",
       "        text-align: right;\n",
       "    }\n",
       "</style>\n",
       "<table border=\"1\" class=\"dataframe\">\n",
       "  <thead>\n",
       "    <tr style=\"text-align: right;\">\n",
       "      <th></th>\n",
       "      <th>Data</th>\n",
       "      <th>Último</th>\n",
       "      <th>Abertura</th>\n",
       "      <th>Máxima</th>\n",
       "      <th>Mínima</th>\n",
       "      <th>Vol.</th>\n",
       "      <th>Var%</th>\n",
       "    </tr>\n",
       "  </thead>\n",
       "  <tbody>\n",
       "    <tr>\n",
       "      <th>0</th>\n",
       "      <td>16.03.2015</td>\n",
       "      <td>48.848</td>\n",
       "      <td>48.602</td>\n",
       "      <td>49.205</td>\n",
       "      <td>48.394</td>\n",
       "      <td>3,16M</td>\n",
       "      <td>0,52%</td>\n",
       "    </tr>\n",
       "    <tr>\n",
       "      <th>1</th>\n",
       "      <td>13.03.2015</td>\n",
       "      <td>48.596</td>\n",
       "      <td>48.858</td>\n",
       "      <td>48.858</td>\n",
       "      <td>47.905</td>\n",
       "      <td>4,48M</td>\n",
       "      <td>-0,58%</td>\n",
       "    </tr>\n",
       "    <tr>\n",
       "      <th>2</th>\n",
       "      <td>12.03.2015</td>\n",
       "      <td>48.880</td>\n",
       "      <td>48.908</td>\n",
       "      <td>49.633</td>\n",
       "      <td>48.684</td>\n",
       "      <td>3,83M</td>\n",
       "      <td>-0,05%</td>\n",
       "    </tr>\n",
       "    <tr>\n",
       "      <th>3</th>\n",
       "      <td>11.03.2015</td>\n",
       "      <td>48.906</td>\n",
       "      <td>48.309</td>\n",
       "      <td>48.937</td>\n",
       "      <td>48.309</td>\n",
       "      <td>3,84M</td>\n",
       "      <td>1,27%</td>\n",
       "    </tr>\n",
       "    <tr>\n",
       "      <th>4</th>\n",
       "      <td>10.03.2015</td>\n",
       "      <td>48.293</td>\n",
       "      <td>49.177</td>\n",
       "      <td>49.177</td>\n",
       "      <td>48.293</td>\n",
       "      <td>4,43M</td>\n",
       "      <td>-1,81%</td>\n",
       "    </tr>\n",
       "  </tbody>\n",
       "</table>\n",
       "</div>"
      ],
      "text/plain": [
       "         Data  Último  Abertura  Máxima  Mínima   Vol.    Var%\n",
       "0  16.03.2015  48.848    48.602  49.205  48.394  3,16M   0,52%\n",
       "1  13.03.2015  48.596    48.858  48.858  47.905  4,48M  -0,58%\n",
       "2  12.03.2015  48.880    48.908  49.633  48.684  3,83M  -0,05%\n",
       "3  11.03.2015  48.906    48.309  48.937  48.309  3,84M   1,27%\n",
       "4  10.03.2015  48.293    49.177  49.177  48.293  4,43M  -1,81%"
      ]
     },
     "execution_count": 64,
     "metadata": {},
     "output_type": "execute_result"
    }
   ],
   "source": [
    "#importação dos dadosdo ibovespa em arquivo csv de 01/01/1995 a 11/01/2025\n",
    "ibov = pd.read_csv(r'G:\\Meu Drive\\01 - Postech_FIAP_DataAnalytics\\Fase2\\Chalend\\Dados Históricos - Ibovespa_01011995_a_11012025 .csv', encoding='utf-8')\n",
    "\n",
    "ibov.head()"
   ]
  },
  {
   "cell_type": "code",
   "execution_count": 65,
   "metadata": {},
   "outputs": [
    {
     "data": {
      "text/plain": [
       "(5000, 7)"
      ]
     },
     "execution_count": 65,
     "metadata": {},
     "output_type": "execute_result"
    }
   ],
   "source": [
    "ibov.shape"
   ]
  },
  {
   "cell_type": "code",
   "execution_count": 66,
   "metadata": {},
   "outputs": [
    {
     "name": "stdout",
     "output_type": "stream",
     "text": [
      "<class 'pandas.core.frame.DataFrame'>\n",
      "RangeIndex: 5000 entries, 0 to 4999\n",
      "Data columns (total 7 columns):\n",
      " #   Column    Non-Null Count  Dtype  \n",
      "---  ------    --------------  -----  \n",
      " 0   Data      5000 non-null   object \n",
      " 1   Último    5000 non-null   float64\n",
      " 2   Abertura  5000 non-null   float64\n",
      " 3   Máxima    5000 non-null   float64\n",
      " 4   Mínima    5000 non-null   float64\n",
      " 5   Vol.      5000 non-null   object \n",
      " 6   Var%      5000 non-null   object \n",
      "dtypes: float64(4), object(3)\n",
      "memory usage: 273.6+ KB\n"
     ]
    }
   ],
   "source": [
    "ibov.info()"
   ]
  },
  {
   "cell_type": "code",
   "execution_count": 67,
   "metadata": {},
   "outputs": [],
   "source": [
    "ibov['Data'] = pd.to_datetime(ibov['Data'], format='%d.%m.%Y')"
   ]
  },
  {
   "cell_type": "code",
   "execution_count": 72,
   "metadata": {},
   "outputs": [
    {
     "name": "stdout",
     "output_type": "stream",
     "text": [
      "<class 'pandas.core.frame.DataFrame'>\n",
      "RangeIndex: 5000 entries, 0 to 4999\n",
      "Data columns (total 7 columns):\n",
      " #   Column    Non-Null Count  Dtype         \n",
      "---  ------    --------------  -----         \n",
      " 0   Data      5000 non-null   datetime64[ns]\n",
      " 1   Último    5000 non-null   float64       \n",
      " 2   Abertura  5000 non-null   float64       \n",
      " 3   Máxima    5000 non-null   float64       \n",
      " 4   Mínima    5000 non-null   float64       \n",
      " 5   Vol.      5000 non-null   object        \n",
      " 6   Var%      5000 non-null   object        \n",
      "dtypes: datetime64[ns](1), float64(4), object(2)\n",
      "memory usage: 273.6+ KB\n"
     ]
    }
   ],
   "source": [
    "ibov.info()"
   ]
  },
  {
   "cell_type": "code",
   "execution_count": 71,
   "metadata": {},
   "outputs": [
    {
     "data": {
      "text/plain": [
       "<bound method NDFrame.describe of                          0                    1                    2     \\\n",
       "Data      2015-03-16 00:00:00  2015-03-13 00:00:00  2015-03-12 00:00:00   \n",
       "Último                 48.848               48.596                48.88   \n",
       "Abertura               48.602               48.858               48.908   \n",
       "Máxima                 49.205               48.858               49.633   \n",
       "Mínima                 48.394               47.905               48.684   \n",
       "Vol.                    3,16M                4,48M                3,83M   \n",
       "Var%                    0,52%               -0,58%               -0,05%   \n",
       "\n",
       "                         3                    4                    5     \\\n",
       "Data      2015-03-11 00:00:00  2015-03-10 00:00:00  2015-03-09 00:00:00   \n",
       "Último                 48.906               48.293               49.181   \n",
       "Abertura               48.309               49.177               49.978   \n",
       "Máxima                 48.937               49.177               49.978   \n",
       "Mínima                 48.309               48.293               48.952   \n",
       "Vol.                    3,84M                4,43M                3,30M   \n",
       "Var%                    1,27%               -1,81%               -1,60%   \n",
       "\n",
       "                         6                    7                    8     \\\n",
       "Data      2015-03-06 00:00:00  2015-03-05 00:00:00  2015-03-04 00:00:00   \n",
       "Último                 49.981               50.365               50.468   \n",
       "Abertura               50.355               50.472               51.303   \n",
       "Máxima                 50.401               50.734               51.303   \n",
       "Mínima                 49.779               50.114               50.399   \n",
       "Vol.                    2,79M                2,73M                3,65M   \n",
       "Var%                   -0,76%               -0,20%               -1,63%   \n",
       "\n",
       "                         9     ...                 4990                 4991  \\\n",
       "Data      2015-03-03 00:00:00  ...  1995-01-13 00:00:00  1995-01-12 00:00:00   \n",
       "Último                 51.304  ...                4.104                3.841   \n",
       "Abertura               51.021  ...                3.841                3.499   \n",
       "Máxima                 51.432  ...                4.108                3.841   \n",
       "Mínima                 50.995  ...                3.785                3.499   \n",
       "Vol.                    2,75M  ...               13,62B               15,01B   \n",
       "Var%                    0,55%  ...                6,85%                9,77%   \n",
       "\n",
       "                         4992                 4993                 4994  \\\n",
       "Data      1995-01-11 00:00:00  1995-01-10 00:00:00  1995-01-09 00:00:00   \n",
       "Último                  3.499                 3.27                3.628   \n",
       "Abertura                 3.27                3.628                3.827   \n",
       "Máxima                  3.505                3.692                3.836   \n",
       "Mínima                  3.109                3.175                 3.57   \n",
       "Vol.                   13,97B               13,16B                9,45B   \n",
       "Var%                    7,00%               -9,87%               -5,20%   \n",
       "\n",
       "                         4995                 4996                 4997  \\\n",
       "Data      1995-01-06 00:00:00  1995-01-05 00:00:00  1995-01-04 00:00:00   \n",
       "Último                  3.827                4.037                3.968   \n",
       "Abertura                4.037                3.968                4.098   \n",
       "Máxima                  4.106                 4.04                4.098   \n",
       "Mínima                  3.813                3.944                3.861   \n",
       "Vol.                   12,02B                8,76B               11,95B   \n",
       "Var%                   -5,20%                1,74%               -3,17%   \n",
       "\n",
       "                         4998                 4999  \n",
       "Data      1995-01-03 00:00:00  1995-01-02 00:00:00  \n",
       "Último                  4.098                4.301  \n",
       "Abertura                 4.37                4.354  \n",
       "Máxima                  4.386                4.398  \n",
       "Mínima                  4.094                  4.3  \n",
       "Vol.                    8,35B                4,10B  \n",
       "Var%                   -4,72%               -1,22%  \n",
       "\n",
       "[7 rows x 5000 columns]>"
      ]
     },
     "execution_count": 71,
     "metadata": {},
     "output_type": "execute_result"
    }
   ],
   "source": [
    "ibov.T.describe"
   ]
  },
  {
   "cell_type": "code",
   "execution_count": 69,
   "metadata": {},
   "outputs": [
    {
     "data": {
      "text/plain": [
       "Index(['Data', 'Último', 'Abertura', 'Máxima', 'Mínima', 'Vol.', 'Var%'], dtype='object')"
      ]
     },
     "execution_count": 69,
     "metadata": {},
     "output_type": "execute_result"
    }
   ],
   "source": [
    "ibov.columns"
   ]
  },
  {
   "cell_type": "code",
   "execution_count": 74,
   "metadata": {},
   "outputs": [
    {
     "ename": "ValueError",
     "evalue": "'ibov' is not one of the example datasets.",
     "output_type": "error",
     "traceback": [
      "\u001b[1;31m---------------------------------------------------------------------------\u001b[0m",
      "\u001b[1;31mValueError\u001b[0m                                Traceback (most recent call last)",
      "Cell \u001b[1;32mIn[74], line 1\u001b[0m\n\u001b[1;32m----> 1\u001b[0m ibov \u001b[38;5;241m=\u001b[39m \u001b[43msns\u001b[49m\u001b[38;5;241;43m.\u001b[39;49m\u001b[43mload_dataset\u001b[49m\u001b[43m(\u001b[49m\u001b[38;5;124;43m\"\u001b[39;49m\u001b[38;5;124;43mibov\u001b[39;49m\u001b[38;5;124;43m\"\u001b[39;49m\u001b[43m)\u001b[49m\n\u001b[0;32m      2\u001b[0m sns\u001b[38;5;241m.\u001b[39mlineplot(data\u001b[38;5;241m=\u001b[39mibov, x\u001b[38;5;241m=\u001b[39m\u001b[38;5;124m\"\u001b[39m\u001b[38;5;124mData\u001b[39m\u001b[38;5;124m\"\u001b[39m, y\u001b[38;5;241m=\u001b[39m\u001b[38;5;124m\"\u001b[39m\u001b[38;5;124mÚltimo\u001b[39m\u001b[38;5;124m\"\u001b[39m, kind\u001b[38;5;241m=\u001b[39m\u001b[38;5;124m\"\u001b[39m\u001b[38;5;124mline\u001b[39m\u001b[38;5;124m\"\u001b[39m)\n\u001b[0;32m      3\u001b[0m plt\u001b[38;5;241m.\u001b[39mshow\n",
      "File \u001b[1;32m~\\AppData\\Local\\Packages\\PythonSoftwareFoundation.Python.3.11_qbz5n2kfra8p0\\LocalCache\\local-packages\\Python311\\site-packages\\seaborn\\utils.py:573\u001b[0m, in \u001b[0;36mload_dataset\u001b[1;34m(name, cache, data_home, **kws)\u001b[0m\n\u001b[0;32m    571\u001b[0m \u001b[38;5;28;01mif\u001b[39;00m \u001b[38;5;129;01mnot\u001b[39;00m os\u001b[38;5;241m.\u001b[39mpath\u001b[38;5;241m.\u001b[39mexists(cache_path):\n\u001b[0;32m    572\u001b[0m     \u001b[38;5;28;01mif\u001b[39;00m name \u001b[38;5;129;01mnot\u001b[39;00m \u001b[38;5;129;01min\u001b[39;00m get_dataset_names():\n\u001b[1;32m--> 573\u001b[0m         \u001b[38;5;28;01mraise\u001b[39;00m \u001b[38;5;167;01mValueError\u001b[39;00m(\u001b[38;5;124mf\u001b[39m\u001b[38;5;124m\"\u001b[39m\u001b[38;5;124m'\u001b[39m\u001b[38;5;132;01m{\u001b[39;00mname\u001b[38;5;132;01m}\u001b[39;00m\u001b[38;5;124m'\u001b[39m\u001b[38;5;124m is not one of the example datasets.\u001b[39m\u001b[38;5;124m\"\u001b[39m)\n\u001b[0;32m    574\u001b[0m     urlretrieve(url, cache_path)\n\u001b[0;32m    575\u001b[0m full_path \u001b[38;5;241m=\u001b[39m cache_path\n",
      "\u001b[1;31mValueError\u001b[0m: 'ibov' is not one of the example datasets."
     ]
    }
   ],
   "source": [
    "ibov = sns.load_dataset(\"ibov\")\n",
    "sns.lineplot(data=ibov, x=\"Data\", y=\"Último\", kind=\"line\")\n",
    "plt.show"
   ]
  },
  {
   "cell_type": "code",
   "execution_count": null,
   "metadata": {},
   "outputs": [
    {
     "ename": "SyntaxError",
     "evalue": "invalid syntax. Perhaps you forgot a comma? (1391938291.py, line 2)",
     "output_type": "error",
     "traceback": [
      "\u001b[1;36m  Cell \u001b[1;32mIn[77], line 2\u001b[1;36m\u001b[0m\n\u001b[1;33m    sns.lineplot(data=sns.lineplot sns.li'Data', y='Último')\u001b[0m\n\u001b[1;37m                      ^\u001b[0m\n\u001b[1;31mSyntaxError\u001b[0m\u001b[1;31m:\u001b[0m invalid syntax. Perhaps you forgot a comma?\n"
     ]
    }
   ],
   "source": [
    "sns.lineplot()\n",
    "plt.show()\n"
   ]
  },
  {
   "cell_type": "code",
   "execution_count": null,
   "metadata": {},
   "outputs": [],
   "source": []
  }
 ],
 "metadata": {
  "kernelspec": {
   "display_name": "Python 3",
   "language": "python",
   "name": "python3"
  },
  "language_info": {
   "codemirror_mode": {
    "name": "ipython",
    "version": 3
   },
   "file_extension": ".py",
   "mimetype": "text/x-python",
   "name": "python",
   "nbconvert_exporter": "python",
   "pygments_lexer": "ipython3",
   "version": "3.11.9"
  }
 },
 "nbformat": 4,
 "nbformat_minor": 2
}
